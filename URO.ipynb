{
 "cells": [
  {
   "cell_type": "code",
   "execution_count": 148,
   "metadata": {},
   "outputs": [],
   "source": [
    "import numpy as np"
   ]
  },
  {
   "cell_type": "code",
   "execution_count": 149,
   "metadata": {},
   "outputs": [],
   "source": [
    "import pandas as pd"
   ]
  },
  {
   "cell_type": "code",
   "execution_count": 150,
   "metadata": {},
   "outputs": [],
   "source": [
    "import difflib"
   ]
  },
  {
   "cell_type": "code",
   "execution_count": 151,
   "metadata": {},
   "outputs": [],
   "source": [
    "from fuzzywuzzy import process, fuzz"
   ]
  },
  {
   "cell_type": "code",
   "execution_count": 152,
   "metadata": {},
   "outputs": [
    {
     "data": {
      "text/plain": [
       "<function fuzzywuzzy.fuzz.token_sort_ratio(s1, s2, force_ascii=True, full_process=True)>"
      ]
     },
     "execution_count": 152,
     "metadata": {},
     "output_type": "execute_result"
    }
   ],
   "source": [
    "fuzz.token_sort_ratio"
   ]
  },
  {
   "cell_type": "code",
   "execution_count": 153,
   "metadata": {},
   "outputs": [
    {
     "data": {
      "text/plain": [
       "<function difflib.get_close_matches(word, possibilities, n=3, cutoff=0.6)>"
      ]
     },
     "execution_count": 153,
     "metadata": {},
     "output_type": "execute_result"
    }
   ],
   "source": [
    "difflib.get_close_matches"
   ]
  },
  {
   "cell_type": "code",
   "execution_count": 154,
   "metadata": {},
   "outputs": [],
   "source": [
    "df = pd.read_excel (r'/Users/faaizahdesai/Desktop/Sorted.xlsx', sheet_name = 'Ontario')"
   ]
  },
  {
   "cell_type": "code",
   "execution_count": 155,
   "metadata": {},
   "outputs": [],
   "source": [
    "pd.set_option(\"display.max_rows\", None, \"display.max_columns\", None)"
   ]
  },
  {
   "cell_type": "code",
   "execution_count": 156,
   "metadata": {},
   "outputs": [
    {
     "data": {
      "text/html": [
       "<div>\n",
       "<style scoped>\n",
       "    .dataframe tbody tr th:only-of-type {\n",
       "        vertical-align: middle;\n",
       "    }\n",
       "\n",
       "    .dataframe tbody tr th {\n",
       "        vertical-align: top;\n",
       "    }\n",
       "\n",
       "    .dataframe thead th {\n",
       "        text-align: right;\n",
       "    }\n",
       "</style>\n",
       "<table border=\"1\" class=\"dataframe\">\n",
       "  <thead>\n",
       "    <tr style=\"text-align: right;\">\n",
       "      <th></th>\n",
       "      <th>University name</th>\n",
       "      <th>Type</th>\n",
       "      <th>Program name</th>\n",
       "      <th>Program Code</th>\n",
       "      <th>Common</th>\n",
       "      <th>Postal Code</th>\n",
       "      <th>Admissions Requirements (*) (All Ontario University programs require 6 Grade 12 U/M courses to apply to University)</th>\n",
       "      <th>Additional Requirements</th>\n",
       "      <th>Additional application fees ($)</th>\n",
       "      <th>Admission Standards (%)</th>\n",
       "      <th>Is Applicant Ranking valuable?</th>\n",
       "      <th>Proof</th>\n",
       "      <th>Size</th>\n",
       "      <th>Co-op availability</th>\n",
       "      <th>Scholarship availabiliy</th>\n",
       "      <th>Source</th>\n",
       "      <th>Source.1</th>\n",
       "      <th>Additional application information</th>\n",
       "      <th>Additional Application source</th>\n",
       "    </tr>\n",
       "  </thead>\n",
       "  <tbody>\n",
       "    <tr>\n",
       "      <th>0</th>\n",
       "      <td>Ryerson University</td>\n",
       "      <td>Business</td>\n",
       "      <td>Accounting &amp; Finance (BComm)</td>\n",
       "      <td>SBO</td>\n",
       "      <td>NaN</td>\n",
       "      <td>M5B 2K3</td>\n",
       "      <td>ENG4U or EAE4U,MHF4U,MCV4U</td>\n",
       "      <td>NaN</td>\n",
       "      <td>NaN</td>\n",
       "      <td>80-86</td>\n",
       "      <td>No</td>\n",
       "      <td>Does not indicate</td>\n",
       "      <td>406</td>\n",
       "      <td>yes</td>\n",
       "      <td>yes</td>\n",
       "      <td>https://www.ryerson.ca/programs/undergraduate/...</td>\n",
       "      <td>https://www.ontariouniversitiesinfo.ca/program...</td>\n",
       "      <td>Do not submit non-academic material until afte...</td>\n",
       "      <td>NaN</td>\n",
       "    </tr>\n",
       "    <tr>\n",
       "      <th>1</th>\n",
       "      <td>Ryerson University</td>\n",
       "      <td>Engineering</td>\n",
       "      <td>Aerospace Engineering (BEng)</td>\n",
       "      <td>SAA</td>\n",
       "      <td>NaN</td>\n",
       "      <td>M5B 2K3</td>\n",
       "      <td>ENG4U or EAE4U,MHF4U,MCV4U,SPH4U,SCH4U</td>\n",
       "      <td>NaN</td>\n",
       "      <td>NaN</td>\n",
       "      <td>80-87</td>\n",
       "      <td>No</td>\n",
       "      <td>Does not indicate</td>\n",
       "      <td>139</td>\n",
       "      <td>yes</td>\n",
       "      <td>yes</td>\n",
       "      <td>https://www.ryerson.ca/programs/undergraduate/...</td>\n",
       "      <td>https://www.ontariouniversitiesinfo.ca/program...</td>\n",
       "      <td>Do not submit non-academic material until afte...</td>\n",
       "      <td>NaN</td>\n",
       "    </tr>\n",
       "    <tr>\n",
       "      <th>2</th>\n",
       "      <td>Ryerson University</td>\n",
       "      <td>Other</td>\n",
       "      <td>Architectural Science (BArchSc)</td>\n",
       "      <td>SAD</td>\n",
       "      <td>NaN</td>\n",
       "      <td>M5B 2K3</td>\n",
       "      <td>ENG4U or EAE4U,SPH4U,MCV4U OR MHF4U</td>\n",
       "      <td>On-campus evaluation session including portfo...</td>\n",
       "      <td>50</td>\n",
       "      <td>80</td>\n",
       "      <td>No</td>\n",
       "      <td>Does not indicate</td>\n",
       "      <td>120</td>\n",
       "      <td>yes</td>\n",
       "      <td>yes</td>\n",
       "      <td>https://www.ryerson.ca/programs/undergraduate/...</td>\n",
       "      <td>https://www.ontariouniversitiesinfo.ca/program...</td>\n",
       "      <td>Do not submit non-academic material until afte...</td>\n",
       "      <td>https://www.ryerson.ca/programs/undergraduate/...</td>\n",
       "    </tr>\n",
       "    <tr>\n",
       "      <th>3</th>\n",
       "      <td>Ryerson University</td>\n",
       "      <td>Social Science</td>\n",
       "      <td>Arts and Contemporary Studies (BA (Hons))</td>\n",
       "      <td>SCS</td>\n",
       "      <td>NaN</td>\n",
       "      <td>M5B 2K3</td>\n",
       "      <td>ENG4U or EAE4u</td>\n",
       "      <td>NaN</td>\n",
       "      <td>NaN</td>\n",
       "      <td>70-74</td>\n",
       "      <td>No</td>\n",
       "      <td>Does not indicate</td>\n",
       "      <td>139</td>\n",
       "      <td>not available</td>\n",
       "      <td>yes</td>\n",
       "      <td>https://www.ryerson.ca/programs/undergraduate/...</td>\n",
       "      <td>https://www.ontariouniversitiesinfo.ca/program...</td>\n",
       "      <td>Do not submit non-academic material until afte...</td>\n",
       "      <td>NaN</td>\n",
       "    </tr>\n",
       "    <tr>\n",
       "      <th>4</th>\n",
       "      <td>Ryerson University</td>\n",
       "      <td>Natural Sciences</td>\n",
       "      <td>Biology (BSc (Hons))</td>\n",
       "      <td>SBX</td>\n",
       "      <td>NaN</td>\n",
       "      <td>M5B 2K3</td>\n",
       "      <td>ENG4U or EAE4U,MHF4U, 2 of SBI4U,SCH4U OR SPH4U</td>\n",
       "      <td>NaN</td>\n",
       "      <td>NaN</td>\n",
       "      <td>76-85</td>\n",
       "      <td>No</td>\n",
       "      <td>Does not indicate</td>\n",
       "      <td>172</td>\n",
       "      <td>yes</td>\n",
       "      <td>yes</td>\n",
       "      <td>https://www.ryerson.ca/programs/undergraduate/...</td>\n",
       "      <td>https://www.ontariouniversitiesinfo.ca/program...</td>\n",
       "      <td>Do not submit non-academic material until afte...</td>\n",
       "      <td>NaN</td>\n",
       "    </tr>\n",
       "  </tbody>\n",
       "</table>\n",
       "</div>"
      ],
      "text/plain": [
       "      University name              Type  \\\n",
       "0  Ryerson University          Business   \n",
       "1  Ryerson University       Engineering   \n",
       "2  Ryerson University             Other   \n",
       "3  Ryerson University    Social Science   \n",
       "4  Ryerson University  Natural Sciences   \n",
       "\n",
       "                                Program name Program Code Common Postal Code  \\\n",
       "0               Accounting & Finance (BComm)          SBO    NaN     M5B 2K3   \n",
       "1               Aerospace Engineering (BEng)          SAA    NaN     M5B 2K3   \n",
       "2            Architectural Science (BArchSc)          SAD    NaN     M5B 2K3   \n",
       "3  Arts and Contemporary Studies (BA (Hons))          SCS    NaN     M5B 2K3   \n",
       "4                       Biology (BSc (Hons))          SBX    NaN     M5B 2K3   \n",
       "\n",
       "  Admissions Requirements (*) (All Ontario University programs require 6 Grade 12 U/M courses to apply to University)   \\\n",
       "0                         ENG4U or EAE4U,MHF4U,MCV4U                                                                     \n",
       "1             ENG4U or EAE4U,MHF4U,MCV4U,SPH4U,SCH4U                                                                     \n",
       "2               ENG4U or EAE4U,SPH4U,MCV4U OR MHF4U                                                                      \n",
       "3                                     ENG4U or EAE4u                                                                     \n",
       "4    ENG4U or EAE4U,MHF4U, 2 of SBI4U,SCH4U OR SPH4U                                                                     \n",
       "\n",
       "                             Additional Requirements  \\\n",
       "0                                                NaN   \n",
       "1                                                NaN   \n",
       "2   On-campus evaluation session including portfo...   \n",
       "3                                                NaN   \n",
       "4                                                NaN   \n",
       "\n",
       "  Additional application fees ($) Admission Standards (%)  \\\n",
       "0                             NaN                   80-86   \n",
       "1                             NaN                   80-87   \n",
       "2                              50                      80   \n",
       "3                             NaN                   70-74   \n",
       "4                             NaN                   76-85   \n",
       "\n",
       "  Is Applicant Ranking valuable?              Proof Size Co-op availability  \\\n",
       "0                             No  Does not indicate  406                yes   \n",
       "1                             No  Does not indicate  139                yes   \n",
       "2                             No  Does not indicate  120                yes   \n",
       "3                             No  Does not indicate  139      not available   \n",
       "4                             No  Does not indicate  172                yes   \n",
       "\n",
       "  Scholarship availabiliy                                             Source  \\\n",
       "0                     yes  https://www.ryerson.ca/programs/undergraduate/...   \n",
       "1                     yes  https://www.ryerson.ca/programs/undergraduate/...   \n",
       "2                     yes  https://www.ryerson.ca/programs/undergraduate/...   \n",
       "3                     yes  https://www.ryerson.ca/programs/undergraduate/...   \n",
       "4                     yes  https://www.ryerson.ca/programs/undergraduate/...   \n",
       "\n",
       "                                            Source.1  \\\n",
       "0  https://www.ontariouniversitiesinfo.ca/program...   \n",
       "1  https://www.ontariouniversitiesinfo.ca/program...   \n",
       "2  https://www.ontariouniversitiesinfo.ca/program...   \n",
       "3  https://www.ontariouniversitiesinfo.ca/program...   \n",
       "4  https://www.ontariouniversitiesinfo.ca/program...   \n",
       "\n",
       "                  Additional application information  \\\n",
       "0  Do not submit non-academic material until afte...   \n",
       "1  Do not submit non-academic material until afte...   \n",
       "2  Do not submit non-academic material until afte...   \n",
       "3  Do not submit non-academic material until afte...   \n",
       "4  Do not submit non-academic material until afte...   \n",
       "\n",
       "                       Additional Application source  \n",
       "0                                                NaN  \n",
       "1                                                NaN  \n",
       "2  https://www.ryerson.ca/programs/undergraduate/...  \n",
       "3                                                NaN  \n",
       "4                                                NaN  "
      ]
     },
     "execution_count": 156,
     "metadata": {},
     "output_type": "execute_result"
    }
   ],
   "source": [
    "df.head()"
   ]
  },
  {
   "cell_type": "code",
   "execution_count": 157,
   "metadata": {},
   "outputs": [],
   "source": [
    "df2 = df[['University name','Program name','Program Code']].dropna()"
   ]
  },
  {
   "cell_type": "code",
   "execution_count": 158,
   "metadata": {},
   "outputs": [],
   "source": [
    "df2.rename(columns = {'Program name':'Program'},inplace = True)"
   ]
  },
  {
   "cell_type": "code",
   "execution_count": 159,
   "metadata": {},
   "outputs": [],
   "source": [
    "df2['Program'] = df2.Program.str.replace('BA-,?' , '')"
   ]
  },
  {
   "cell_type": "code",
   "execution_count": 160,
   "metadata": {},
   "outputs": [],
   "source": [
    "df2['Program'] = df2.Program.str.replace('BA – ,?' , '')"
   ]
  },
  {
   "cell_type": "code",
   "execution_count": 161,
   "metadata": {},
   "outputs": [],
   "source": [
    "df2['Program'] = df2.Program.str.replace('BA,?' , '')"
   ]
  },
  {
   "cell_type": "code",
   "execution_count": 162,
   "metadata": {},
   "outputs": [],
   "source": [
    "df2['Program'] = df2.Program.str.replace('Bachelor of,?' , '')"
   ]
  },
  {
   "cell_type": "code",
   "execution_count": 163,
   "metadata": {},
   "outputs": [],
   "source": [
    "df2['Program'] = df2.Program.str.replace('Applied,?' , '')"
   ]
  },
  {
   "cell_type": "code",
   "execution_count": 169,
   "metadata": {},
   "outputs": [],
   "source": [
    "df2['Program'] = df2.Program.str.replace('BSc,?' , '')"
   ]
  },
  {
   "cell_type": "code",
   "execution_count": 173,
   "metadata": {},
   "outputs": [],
   "source": [
    "df2['Program'] = df2.Program.str.replace('Co-op,?' , '')"
   ]
  },
  {
   "cell_type": "code",
   "execution_count": 179,
   "metadata": {},
   "outputs": [],
   "source": [
    "df2.drop_duplicates(subset=['Program Code'],inplace = True)"
   ]
  },
  {
   "cell_type": "code",
   "execution_count": 181,
   "metadata": {},
   "outputs": [
    {
     "data": {
      "text/html": [
       "<div>\n",
       "<style scoped>\n",
       "    .dataframe tbody tr th:only-of-type {\n",
       "        vertical-align: middle;\n",
       "    }\n",
       "\n",
       "    .dataframe tbody tr th {\n",
       "        vertical-align: top;\n",
       "    }\n",
       "\n",
       "    .dataframe thead th {\n",
       "        text-align: right;\n",
       "    }\n",
       "</style>\n",
       "<table border=\"1\" class=\"dataframe\">\n",
       "  <thead>\n",
       "    <tr style=\"text-align: right;\">\n",
       "      <th></th>\n",
       "      <th>University name</th>\n",
       "      <th>Program</th>\n",
       "      <th>Program Code</th>\n",
       "    </tr>\n",
       "  </thead>\n",
       "  <tbody>\n",
       "    <tr>\n",
       "      <th>919</th>\n",
       "      <td>Nipissing University</td>\n",
       "      <td>Arts</td>\n",
       "      <td>PA</td>\n",
       "    </tr>\n",
       "    <tr>\n",
       "      <th>1417</th>\n",
       "      <td>Wilfrid Laurier University – Waterloo Campus</td>\n",
       "      <td>Arts &amp; Master of Arts ( &amp; Masters)</td>\n",
       "      <td>UMA</td>\n",
       "    </tr>\n",
       "    <tr>\n",
       "      <th>2964</th>\n",
       "      <td>Trent University</td>\n",
       "      <td>Arts &amp; Science</td>\n",
       "      <td>RAC</td>\n",
       "    </tr>\n",
       "    <tr>\n",
       "      <th>961</th>\n",
       "      <td>Nipissing University</td>\n",
       "      <td>Arts in Criminal Justice</td>\n",
       "      <td>PAJ</td>\n",
       "    </tr>\n",
       "    <tr>\n",
       "      <th>966</th>\n",
       "      <td>Nipissing University</td>\n",
       "      <td>Arts in History with Orientation to a Master ...</td>\n",
       "      <td>PAH</td>\n",
       "    </tr>\n",
       "  </tbody>\n",
       "</table>\n",
       "</div>"
      ],
      "text/plain": [
       "                                   University name  \\\n",
       "919                           Nipissing University   \n",
       "1417  Wilfrid Laurier University – Waterloo Campus   \n",
       "2964                              Trent University   \n",
       "961                           Nipissing University   \n",
       "966                           Nipissing University   \n",
       "\n",
       "                                                Program Program Code  \n",
       "919                                                Arts           PA  \n",
       "1417                 Arts & Master of Arts ( & Masters)          UMA  \n",
       "2964                                     Arts & Science          RAC  \n",
       "961                            Arts in Criminal Justice          PAJ  \n",
       "966    Arts in History with Orientation to a Master ...          PAH  "
      ]
     },
     "execution_count": 181,
     "metadata": {},
     "output_type": "execute_result"
    }
   ],
   "source": [
    "df2.sort_values(by = 'Program').head()"
   ]
  },
  {
   "cell_type": "code",
   "execution_count": 175,
   "metadata": {},
   "outputs": [
    {
     "name": "stdout",
     "output_type": "stream",
     "text": [
      "Number of unique values in Program Code: 1501\n"
     ]
    }
   ],
   "source": [
    "for col in df2[['Program Code']]:\n",
    "    df2[col] = df2[col].str.strip()\n",
    "    print('Number of unique values in ' + str(col) +': ' + str(df2[col].nunique()))"
   ]
  },
  {
   "cell_type": "code",
   "execution_count": 182,
   "metadata": {},
   "outputs": [
    {
     "ename": "AttributeError",
     "evalue": "'list' object has no attribute 'head'",
     "output_type": "error",
     "traceback": [
      "\u001b[0;31m---------------------------------------------------------------------------\u001b[0m",
      "\u001b[0;31mAttributeError\u001b[0m                            Traceback (most recent call last)",
      "\u001b[0;32m<ipython-input-182-0407e1979d0e>\u001b[0m in \u001b[0;36m<module>\u001b[0;34m\u001b[0m\n\u001b[1;32m      1\u001b[0m \u001b[0munique_name\u001b[0m \u001b[0;34m=\u001b[0m \u001b[0mdf2\u001b[0m\u001b[0;34m[\u001b[0m\u001b[0;34m'Program Code'\u001b[0m\u001b[0;34m]\u001b[0m\u001b[0;34m.\u001b[0m\u001b[0mtolist\u001b[0m\u001b[0;34m(\u001b[0m\u001b[0;34m)\u001b[0m\u001b[0;34m\u001b[0m\u001b[0;34m\u001b[0m\u001b[0m\n\u001b[0;32m----> 2\u001b[0;31m \u001b[0msorted\u001b[0m\u001b[0;34m(\u001b[0m\u001b[0munique_name\u001b[0m\u001b[0;34m)\u001b[0m\u001b[0;34m.\u001b[0m\u001b[0mhead\u001b[0m\u001b[0;34m(\u001b[0m\u001b[0;34m)\u001b[0m\u001b[0;34m\u001b[0m\u001b[0;34m\u001b[0m\u001b[0m\n\u001b[0m",
      "\u001b[0;31mAttributeError\u001b[0m: 'list' object has no attribute 'head'"
     ]
    }
   ],
   "source": [
    "unique_name = df2['Program Code'].tolist()\n",
    "sorted(unique_name).head()"
   ]
  },
  {
   "cell_type": "code",
   "execution_count": 167,
   "metadata": {},
   "outputs": [
    {
     "data": {
      "text/plain": [
       "[('Accounting', 100),\n",
       " ('Accounting', 100),\n",
       " ('Accounting', 100),\n",
       " ('Acting', 75),\n",
       " ('Computing', 74)]"
      ]
     },
     "execution_count": 167,
     "metadata": {},
     "output_type": "execute_result"
    }
   ],
   "source": [
    "process.extract('Accounting',unique_name, scorer = fuzz.token_sort_ratio)"
   ]
  },
  {
   "cell_type": "code",
   "execution_count": 168,
   "metadata": {},
   "outputs": [
    {
     "data": {
      "text/plain": [
       "[('Computer Science', 100),\n",
       " ('Computer Science ()', 100),\n",
       " ('Computer Science', 100),\n",
       " ('Computer Science', 100),\n",
       " ('Computer Science', 100)]"
      ]
     },
     "execution_count": 168,
     "metadata": {},
     "output_type": "execute_result"
    }
   ],
   "source": [
    "process.extract('Computer Science',unique_name, scorer = fuzz.token_sort_ratio)"
   ]
  },
  {
   "cell_type": "code",
   "execution_count": null,
   "metadata": {},
   "outputs": [],
   "source": []
  }
 ],
 "metadata": {
  "kernelspec": {
   "display_name": "Python 3",
   "language": "python",
   "name": "python3"
  },
  "language_info": {
   "codemirror_mode": {
    "name": "ipython",
    "version": 3
   },
   "file_extension": ".py",
   "mimetype": "text/x-python",
   "name": "python",
   "nbconvert_exporter": "python",
   "pygments_lexer": "ipython3",
   "version": "3.7.3"
  }
 },
 "nbformat": 4,
 "nbformat_minor": 2
}
